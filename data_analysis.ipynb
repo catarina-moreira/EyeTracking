{
 "cells": [
  {
   "cell_type": "markdown",
   "metadata": {},
   "source": [
    "# VRRRROOM Data Analysis"
   ]
  },
  {
   "cell_type": "code",
   "execution_count": 2,
   "metadata": {},
   "outputs": [
    {
     "name": "stdout",
     "output_type": "stream",
     "text": [
      "Collecting PyPDF2\n",
      "  Downloading pypdf2-3.0.1-py3-none-any.whl.metadata (6.8 kB)\n",
      "Downloading pypdf2-3.0.1-py3-none-any.whl (232 kB)\n",
      "   ---------------------------------------- 0.0/232.6 kB ? eta -:--:--\n",
      "   ----- --------------------------------- 30.7/232.6 kB 640.0 kB/s eta 0:00:01\n",
      "   --------------- ------------------------ 92.2/232.6 kB 1.3 MB/s eta 0:00:01\n",
      "   ---------------------------------------- 232.6/232.6 kB 2.4 MB/s eta 0:00:00\n",
      "Installing collected packages: PyPDF2\n",
      "Successfully installed PyPDF2-3.0.1\n",
      "Note: you may need to restart the kernel to use updated packages.\n"
     ]
    }
   ],
   "source": [
    "%pip install PyPDF2\n"
   ]
  },
  {
   "cell_type": "code",
   "execution_count": 12,
   "metadata": {},
   "outputs": [
    {
     "name": "stdout",
     "output_type": "stream",
     "text": [
      "Extracted text from CSVColumns.pdf:\n",
      "['TrialID ', 'Numerical id of the trial. This is an auto-incrementing integer. This number is device specific, ', 'different devices will have their own trial 1, trial 2, trial 3, etc. If the application is uninstalled and ', 'then installed again, this number might reset. ', 'UserID ', 'a user identifier. It consists of AASG. AA is age, represented by a two digit integer. S is sex/gender, ', 'represented by the letters M for Male, F for Female, O for Other, X for No Answer (N/A). G is for ', 'whether the user wears glasses or not, represented by the letter Y for Yes or N for No. ', 'TobiiTimestamp ', \"This is from Tobii's SDK. Internal eye-tracker timestamp, in long format. \", 'Frame ', 'The Unity3D frame during which this data was recorded. ', 'CurrentImageFilename ', 'The name of the image file currently being displayed. ', 'CurrentAudioFile ', 'The name of the audio file the microphone is currently recording to. ', 'ImagePositionx,  ', 'ImagePositiony,  ', 'ImagePositionz ', 'The position of the GameObject where the image is displayed, in Unity3D. This object has no ', 'rotation applied to it, and its \"front face\" (the face where the image is rendered) is facing towards ', 'negative Z.  3 ImagePixelSizex,  ', 'ImagePixelSizey ', 'The pixel width and height of the current image. ', 'ImageSizex,  ', 'ImageSizey ', 'The size (width and height) of the GameObject in Unity3D where the image is displayed. 1 unit = 1 ', \"meter. Currently the height is kept at 1 unit, and the width is adjusted to match the image's \", 'width/height ratio. ', 'HeadPositionx,  ', 'HeadPositiony,  ', 'HeadPositionz ', 'Position of the camera in Unity3D ', 'HeadForwardx,  ', 'HeadForwardy,  ', 'HeadForwardz ', 'Forward vector of the camera in Unity3D ', 'HeadUpx, HeadUpy, HeadUpz ', 'Up vector of the camera in Unity3D ', 'GazeRayHitx,  ', 'GazeRayHity ', 'The hit point of a raycast, performed using the Gaze Ray, against the GameObject where the image ', 'is displayed. The coordinates are in normalized texture coordinates, with 0,0 being the middle of ', 'the image, -0.5,-0.5 being the bottom left corner and 0.5,0.5 being the top right corner.  4 GazePixelRadius ', 'The radius, in image pixels, of a 1 visual degree circle. This value is rounded to the nearest integer. ', 'This value varies depending on the distance from the camera to the image. It is currently calculated ', 'at runtime using the distance from the Gaze Ray Origin and the GazeRayHit (the point on the image ', 'the user is looking at). ', 'GazeRayWorldOriginx,  ', 'GazeRayWorldOriginy,  ', 'GazeRayWorldOriginz ', \"This is from Tobii's SDK. The 3d point in Unity3D where the Gaze Ray originates from. It's between \", 'the eyes, so it is essentially equal to the HeadPosition. Stored for sanity check. ', 'GazeRayWorldDirectionx,  ', 'GazeRayWorldDirectiony,  ', 'GazeRayWorldDirectionz ', \"This is from Tobii's SDK. The vector representing the Gaze Ray's direction in Unity3D. This is in world \", \"space coordinates (as opposed to being in the camera's local coordinate system). \", 'GazeRayIsValid ', \"This is from Tobii's SDK, just a bool representing the SDK's estimation of reliability of the Gaze Ray it \", 'calculated. ', 'GazeType ', 'The type of eye movement captured in this timestamp. 1 is a fixation, 2 a saccade, 3 a blink. Blink ', 'detection comes from the IsLeftEyeBlinking and IsRightEyeBlinking values below, if either is true ', 'then I consider it a blink. A saccade is any movement that exceeds 0.2 degrees or moves faster ', 'than 35 degrees per second, or has an acceleration greater than 9500 degrees per second squared ', '(same values used by REFLACX) ', 'ConvergenceDistance ', \"This is from Tobii's SDK. An estimation of the distance where the gazes of both eyes converge. \", 'Reliability falls off a cliff beyond 0.8~1 meter.  5 ConvergenceDistanceIsValid ', \"This is from Tobii's SDK. A bool representing the reliability of the ConvergenceDistance value. \", 'LeftPupilDiameter ', \"This is from Tobii's SDK. The estimated diameter, in millimeters, of the left pupil. \", 'IsLeftPupilDiameterValid ', \"This is from Tobii's SDK. A bool representing the reliability of the LeftPupilDiameter value.  \", 'IsLeftEyeBlinking ', \"This is from Tobii's SDK. A bool representing whether the left eye is blinking. \", 'RightPupilDiameter ', \"This is from Tobii's SDK. The estimated diameter, in millimeters, of the right pupil. \", 'IsRightPupilDiameterValid ', \"This is from Tobii's SDK. A bool representing the reliability of the RightPupilDiameter value.  \", 'IsRightEyeBlinking ', \"This is from Tobii's SDK. A bool representing whether the right eye is blinking. \", 'DeviceID ', 'A unique device identifier, in UUID format. ', 'DeviceModel ', \"A string representing the device maker's nomenclature for ths device model. \", 'SoftwareVersion ', \"The prototype's version (currently 0.2) \"]\n"
     ]
    }
   ],
   "source": [
    "import PyPDF2\n",
    "import io\n",
    "\n",
    "# Open the PDF file\n",
    "with open(\"data/CSVColumns.pdf\", \"rb\") as pdf_file:\n",
    "    # Create a PDF reader object\n",
    "    pdf_reader = PyPDF2.PdfReader(pdf_file)\n",
    "    \n",
    "    # Initialize an empty string to store the extracted text\n",
    "    extracted_text = \"\"\n",
    "    \n",
    "    # Iterate through all pages and extract text\n",
    "    for page in pdf_reader.pages:\n",
    "        extracted_text += page.extract_text()\n",
    "\n",
    "# Print the extracted text\n",
    "print(\"Extracted text from CSVColumns.pdf:\")\n",
    "text_lines = extracted_text.split(\"\\n\")\n",
    "\n",
    "# only add to the list everything after \"TrialID\"\n",
    "trial_id_index = text_lines.index(\"TrialID \")\n",
    "trial_id_list = text_lines[trial_id_index:]\n",
    "\n",
    "print(trial_id_list)\n",
    "\n"
   ]
  },
  {
   "cell_type": "code",
   "execution_count": 13,
   "metadata": {},
   "outputs": [
    {
     "data": {
      "text/plain": [
       "[' 1 CSV Columns ',\n",
       " 'September 12, 2024 ',\n",
       " 'Contents ',\n",
       " 'TrialID .......................................................................................................................................... 2 ',\n",
       " 'UserID ......................................................................................................................................... 2 ',\n",
       " 'TobiiTimestamp ........................................................................................................................... 2 ',\n",
       " 'Frame .......................................................................................................................................... 2 ',\n",
       " 'CurrentImageFilename ................................................................................................................ 2 ',\n",
       " 'CurrentAudioFile ......................................................................................................................... 2 ',\n",
       " 'ImagePositionx,  ImagePositiony,  ImagePositionz ......................................................................... 2 ',\n",
       " 'ImagePixelSizex,  ImagePixelSizey ................................................................................................ 3 ',\n",
       " 'ImageSizex,  ImageSizey ............................................................................................................... 3 ',\n",
       " 'HeadPositionx,  HeadPositiony,  HeadPositionz ............................................................................ 3 ',\n",
       " 'HeadForwardx,  HeadForwardy,  HeadForwardz ............................................................................ 3 ',\n",
       " 'HeadUpx, HeadUpy, HeadUpz ...................................................................................................... 3 ',\n",
       " 'GazeRayHitx,  GazeRayHity .......................................................................................................... 3 ',\n",
       " 'GazePixelRadius .......................................................................................................................... 4 ',\n",
       " 'GazeRayWorldOriginx,  GazeRayWorldOriginy,  GazeRayWorldOriginz ........................................... 4 ',\n",
       " 'GazeRayWorldDirectionx,  GazeRayWorldDirectiony,  GazeRayWorldDirectionz ............................ 4 ',\n",
       " 'GazeRayIsValid ............................................................................................................................ 4 ',\n",
       " 'GazeType ..................................................................................................................................... 4 ',\n",
       " 'ConvergenceDistance .................................................................................................................. 4 ',\n",
       " 'ConvergenceDistanceIsValid ....................................................................................................... 5 ',\n",
       " 'LeftPupilDiameter ........................................................................................................................ 5 ',\n",
       " 'IsLeftPupilDiameterValid ............................................................................................................. 5 ',\n",
       " 'IsLeftEyeBlinking.......................................................................................................................... 5 ',\n",
       " 'RightPupilDiameter ...................................................................................................................... 5 ',\n",
       " 'IsRightPupilDiameterValid ........................................................................................................... 5 ',\n",
       " 'IsRightEyeBlinking ........................................................................................................................ 5 ',\n",
       " 'DeviceID ...................................................................................................................................... 5 ',\n",
       " 'DeviceModel................................................................................................................................ 5 ',\n",
       " 'SoftwareVersion .......................................................................................................................... 5  2  ',\n",
       " 'TrialID ',\n",
       " 'Numerical id of the trial. This is an auto-incrementing integer. This number is device specific, ',\n",
       " 'different devices will have their own trial 1, trial 2, trial 3, etc. If the application is uninstalled and ',\n",
       " 'then installed again, this number might reset. ',\n",
       " 'UserID ',\n",
       " 'a user identifier. It consists of AASG. AA is age, represented by a two digit integer. S is sex/gender, ',\n",
       " 'represented by the letters M for Male, F for Female, O for Other, X for No Answer (N/A). G is for ',\n",
       " 'whether the user wears glasses or not, represented by the letter Y for Yes or N for No. ',\n",
       " 'TobiiTimestamp ',\n",
       " \"This is from Tobii's SDK. Internal eye-tracker timestamp, in long format. \",\n",
       " 'Frame ',\n",
       " 'The Unity3D frame during which this data was recorded. ',\n",
       " 'CurrentImageFilename ',\n",
       " 'The name of the image file currently being displayed. ',\n",
       " 'CurrentAudioFile ',\n",
       " 'The name of the audio file the microphone is currently recording to. ',\n",
       " 'ImagePositionx,  ',\n",
       " 'ImagePositiony,  ',\n",
       " 'ImagePositionz ',\n",
       " 'The position of the GameObject where the image is displayed, in Unity3D. This object has no ',\n",
       " 'rotation applied to it, and its \"front face\" (the face where the image is rendered) is facing towards ',\n",
       " 'negative Z.  3 ImagePixelSizex,  ',\n",
       " 'ImagePixelSizey ',\n",
       " 'The pixel width and height of the current image. ',\n",
       " 'ImageSizex,  ',\n",
       " 'ImageSizey ',\n",
       " 'The size (width and height) of the GameObject in Unity3D where the image is displayed. 1 unit = 1 ',\n",
       " \"meter. Currently the height is kept at 1 unit, and the width is adjusted to match the image's \",\n",
       " 'width/height ratio. ',\n",
       " 'HeadPositionx,  ',\n",
       " 'HeadPositiony,  ',\n",
       " 'HeadPositionz ',\n",
       " 'Position of the camera in Unity3D ',\n",
       " 'HeadForwardx,  ',\n",
       " 'HeadForwardy,  ',\n",
       " 'HeadForwardz ',\n",
       " 'Forward vector of the camera in Unity3D ',\n",
       " 'HeadUpx, HeadUpy, HeadUpz ',\n",
       " 'Up vector of the camera in Unity3D ',\n",
       " 'GazeRayHitx,  ',\n",
       " 'GazeRayHity ',\n",
       " 'The hit point of a raycast, performed using the Gaze Ray, against the GameObject where the image ',\n",
       " 'is displayed. The coordinates are in normalized texture coordinates, with 0,0 being the middle of ',\n",
       " 'the image, -0.5,-0.5 being the bottom left corner and 0.5,0.5 being the top right corner.  4 GazePixelRadius ',\n",
       " 'The radius, in image pixels, of a 1 visual degree circle. This value is rounded to the nearest integer. ',\n",
       " 'This value varies depending on the distance from the camera to the image. It is currently calculated ',\n",
       " 'at runtime using the distance from the Gaze Ray Origin and the GazeRayHit (the point on the image ',\n",
       " 'the user is looking at). ',\n",
       " 'GazeRayWorldOriginx,  ',\n",
       " 'GazeRayWorldOriginy,  ',\n",
       " 'GazeRayWorldOriginz ',\n",
       " \"This is from Tobii's SDK. The 3d point in Unity3D where the Gaze Ray originates from. It's between \",\n",
       " 'the eyes, so it is essentially equal to the HeadPosition. Stored for sanity check. ',\n",
       " 'GazeRayWorldDirectionx,  ',\n",
       " 'GazeRayWorldDirectiony,  ',\n",
       " 'GazeRayWorldDirectionz ',\n",
       " \"This is from Tobii's SDK. The vector representing the Gaze Ray's direction in Unity3D. This is in world \",\n",
       " \"space coordinates (as opposed to being in the camera's local coordinate system). \",\n",
       " 'GazeRayIsValid ',\n",
       " \"This is from Tobii's SDK, just a bool representing the SDK's estimation of reliability of the Gaze Ray it \",\n",
       " 'calculated. ',\n",
       " 'GazeType ',\n",
       " 'The type of eye movement captured in this timestamp. 1 is a fixation, 2 a saccade, 3 a blink. Blink ',\n",
       " 'detection comes from the IsLeftEyeBlinking and IsRightEyeBlinking values below, if either is true ',\n",
       " 'then I consider it a blink. A saccade is any movement that exceeds 0.2 degrees or moves faster ',\n",
       " 'than 35 degrees per second, or has an acceleration greater than 9500 degrees per second squared ',\n",
       " '(same values used by REFLACX) ',\n",
       " 'ConvergenceDistance ',\n",
       " \"This is from Tobii's SDK. An estimation of the distance where the gazes of both eyes converge. \",\n",
       " 'Reliability falls off a cliff beyond 0.8~1 meter.  5 ConvergenceDistanceIsValid ',\n",
       " \"This is from Tobii's SDK. A bool representing the reliability of the ConvergenceDistance value. \",\n",
       " 'LeftPupilDiameter ',\n",
       " \"This is from Tobii's SDK. The estimated diameter, in millimeters, of the left pupil. \",\n",
       " 'IsLeftPupilDiameterValid ',\n",
       " \"This is from Tobii's SDK. A bool representing the reliability of the LeftPupilDiameter value.  \",\n",
       " 'IsLeftEyeBlinking ',\n",
       " \"This is from Tobii's SDK. A bool representing whether the left eye is blinking. \",\n",
       " 'RightPupilDiameter ',\n",
       " \"This is from Tobii's SDK. The estimated diameter, in millimeters, of the right pupil. \",\n",
       " 'IsRightPupilDiameterValid ',\n",
       " \"This is from Tobii's SDK. A bool representing the reliability of the RightPupilDiameter value.  \",\n",
       " 'IsRightEyeBlinking ',\n",
       " \"This is from Tobii's SDK. A bool representing whether the right eye is blinking. \",\n",
       " 'DeviceID ',\n",
       " 'A unique device identifier, in UUID format. ',\n",
       " 'DeviceModel ',\n",
       " \"A string representing the device maker's nomenclature for ths device model. \",\n",
       " 'SoftwareVersion ',\n",
       " \"The prototype's version (currently 0.2) \"]"
      ]
     },
     "execution_count": 13,
     "metadata": {},
     "output_type": "execute_result"
    }
   ],
   "source": [
    "text_lines\n",
    "\n"
   ]
  }
 ],
 "metadata": {
  "kernelspec": {
   "display_name": "pgm",
   "language": "python",
   "name": "python3"
  },
  "language_info": {
   "codemirror_mode": {
    "name": "ipython",
    "version": 3
   },
   "file_extension": ".py",
   "mimetype": "text/x-python",
   "name": "python",
   "nbconvert_exporter": "python",
   "pygments_lexer": "ipython3",
   "version": "3.11.9"
  }
 },
 "nbformat": 4,
 "nbformat_minor": 2
}
